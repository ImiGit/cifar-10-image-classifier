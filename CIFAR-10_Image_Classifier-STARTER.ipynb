{
 "cells": [
  {
   "cell_type": "markdown",
   "metadata": {},
   "source": [
    "# Introduction\n",
    "\n",
    "In this project, you will build a neural network of your own design to evaluate the CIFAR-10 dataset.\n",
    "Our target accuracy is 70%, but any accuracy over 50% is a great start.\n",
    "Some of the benchmark results on CIFAR-10 include:\n",
    "\n",
    "78.9% Accuracy | [Deep Belief Networks; Krizhevsky, 2010](https://www.cs.toronto.edu/~kriz/conv-cifar10-aug2010.pdf)\n",
    "\n",
    "90.6% Accuracy | [Maxout Networks; Goodfellow et al., 2013](https://arxiv.org/pdf/1302.4389.pdf)\n",
    "\n",
    "96.0% Accuracy | [Wide Residual Networks; Zagoruyko et al., 2016](https://arxiv.org/pdf/1605.07146.pdf)\n",
    "\n",
    "99.0% Accuracy | [GPipe; Huang et al., 2018](https://arxiv.org/pdf/1811.06965.pdf)\n",
    "\n",
    "98.5% Accuracy | [Rethinking Recurrent Neural Networks and other Improvements for ImageClassification; Nguyen et al., 2020](https://arxiv.org/pdf/2007.15161.pdf)\n",
    "\n",
    "Research with this dataset is ongoing. Notably, many of these networks are quite large and quite expensive to train. \n",
    "\n",
    "## Imports"
   ]
  },
  {
   "cell_type": "code",
   "execution_count": 1,
   "metadata": {},
   "outputs": [],
   "source": [
    "## This cell contains the essential imports you will need – DO NOT CHANGE THE CONTENTS! ##\n",
    "import torch\n",
    "import torch.nn as nn\n",
    "import torch.nn.functional as F\n",
    "import torch.optim as optim\n",
    "import torchvision\n",
    "import torchvision.transforms as transforms\n",
    "import matplotlib.pyplot as plt\n",
    "import numpy as np\n",
    "import warnings\n",
    "warnings.filterwarnings('ignore')\n",
    "\n",
    "%matplotlib inline\n",
    "%config InlineBackend.figure_format = 'retina'"
   ]
  },
  {
   "cell_type": "markdown",
   "metadata": {},
   "source": [
    "## Load the Dataset\n",
    "\n",
    "Specify your transforms as a list first.\n",
    "The transforms module is already loaded as `transforms`.\n",
    "\n",
    "CIFAR-10 is fortunately included in the torchvision module.\n",
    "Then, you can create your dataset using the `CIFAR10` object from `torchvision.datasets` ([the documentation is available here](https://pytorch.org/docs/stable/torchvision/datasets.html#cifar)).\n",
    "Make sure to specify `download=True`! \n",
    "\n",
    "Once your dataset is created, you'll also need to define a `DataLoader` from the `torch.utils.data` module for both the train and the test set."
   ]
  },
  {
   "cell_type": "code",
   "execution_count": 5,
   "metadata": {},
   "outputs": [
    {
     "name": "stdout",
     "output_type": "stream",
     "text": [
      "Files already downloaded and verified\n",
      "Files already downloaded and verified\n"
     ]
    }
   ],
   "source": [
    "# Define transforms\n",
    "## YOUR CODE HERE ##\n",
    "train_transforms = transforms.Compose([transforms.RandomRotation(30),\n",
    "                                       transforms.RandomHorizontalFlip(),\n",
    "                                       transforms.ToTensor(),\n",
    "                                       transforms.Normalize((0.5, 0.5, 0.5),\n",
    "                                                            (0.5, 0.5, 0.5))\n",
    "                                      ])\n",
    "\n",
    "test_transforms = transforms.Compose([transforms.ToTensor(),\n",
    "                                      transforms.Normalize((0.5, 0.5, 0.5),\n",
    "                                                            (0.5, 0.5, 0.5))])\n",
    "# Create training set and define training dataloader\n",
    "## YOUR CODE HERE ##\n",
    "\n",
    "train_data = torchvision.datasets.CIFAR10(root='./data', train=True, download=True, transform=train_transforms)\n",
    "trainloader = torch.utils.data.DataLoader(train_data, batch_size=64, shuffle=True)\n",
    "\n",
    "# Create test set and define test dataloader\n",
    "## YOUR CODE HERE ##\n",
    "test_data =torchvision.datasets.CIFAR10(root='./data', train=False, download=True, transform=test_transforms)\n",
    "testloader = torch.utils.data.DataLoader(test_data, batch_size=64, shuffle=False)\n",
    "\n",
    "# The 10 classes in the dataset\n",
    "classes = ('plane', 'car', 'bird', 'cat', 'deer', 'dog', 'frog', 'horse', 'ship', 'truck')"
   ]
  },
  {
   "cell_type": "markdown",
   "metadata": {},
   "source": [
    "## Explore the Dataset\n",
    "Using matplotlib, numpy, and torch, explore the dimensions of your data.\n",
    "\n",
    "You can view images using the `show5` function defined below – it takes a data loader as an argument.\n",
    "Remember that normalized images will look really weird to you! You may want to try changing your transforms to view images.\n",
    "Typically using no transforms other than `toTensor()` works well for viewing – but not as well for training your network.\n",
    "If `show5` doesn't work, go back and check your code for creating your data loaders and your training/test sets."
   ]
  },
  {
   "cell_type": "code",
   "execution_count": 3,
   "metadata": {},
   "outputs": [],
   "source": [
    "def show5(img_loader):\n",
    "    dataiter = iter(img_loader)\n",
    "    \n",
    "    batch = next(dataiter)\n",
    "    labels = batch[1][0:5]\n",
    "    images = batch[0][0:5]\n",
    "    fig = plt.figure(figsize=(25, 4))\n",
    "    for i in range(5):\n",
    "        ax = fig.add_subplot(1,5, i+1, xticks=[], yticks=[]) # Changed this function a bit, to have smaller pictures alongside eachother\n",
    "        image = images[i].numpy()\n",
    "        plt.imshow(image.T)                                                        \n",
    "        ax.set_title(classes[labels[i]])"
   ]
  },
  {
   "cell_type": "code",
   "execution_count": 4,
   "metadata": {},
   "outputs": [
    {
     "data": {
      "image/png": "[encoded data removed]",
      "text/plain": [
       "<Figure size 1800x288 with 5 Axes>"
      ]
     },
     "metadata": {
      "image/png": {
       "height": 250,
       "width": 1389
      }
     },
     "output_type": "display_data"
    }
   ],
   "source": [
    "# Explore data\n",
    "# I commented the augmentation and normalization part in the transforms to explore the pictures and then put them back\n",
    "show5(trainloader)"
   ]
  },
  {
   "cell_type": "code",
   "execution_count": 6,
   "metadata": {},
   "outputs": [
    {
     "data": {
      "text/plain": [
       "torch.Size([3, 32, 32])"
      ]
     },
     "execution_count": 6,
     "metadata": {},
     "output_type": "execute_result"
    }
   ],
   "source": [
    "images, labels = next(iter(trainloader))\n",
    "images[0].shape"
   ]
  },
  {
   "cell_type": "code",
   "execution_count": 7,
   "metadata": {},
   "outputs": [
    {
     "data": {
      "text/plain": [
       "torch.Size([64, 3, 32, 32])"
      ]
     },
     "execution_count": 7,
     "metadata": {},
     "output_type": "execute_result"
    }
   ],
   "source": [
    "images.size()"
   ]
  },
  {
   "cell_type": "markdown",
   "metadata": {},
   "source": [
    "## Build your Neural Network\n",
    "Using the layers in `torch.nn` (which has been imported as `nn`) and the `torch.nn.functional` module (imported as `F`), construct a neural network based on the parameters of the dataset. \n",
    "Feel free to construct a model of any architecture – feedforward, convolutional, or even something more advanced!"
   ]
  },
  {
   "cell_type": "code",
   "execution_count": 8,
   "metadata": {},
   "outputs": [
    {
     "data": {
      "text/plain": [
       "Classifier(\n",
       "  (fc1): Linear(in_features=3072, out_features=1024, bias=True)\n",
       "  (fc2): Linear(in_features=1024, out_features=256, bias=True)\n",
       "  (fc3): Linear(in_features=256, out_features=64, bias=True)\n",
       "  (fc4): Linear(in_features=64, out_features=10, bias=True)\n",
       "  (dropout): Dropout(p=0.2, inplace=False)\n",
       ")"
      ]
     },
     "execution_count": 8,
     "metadata": {},
     "output_type": "execute_result"
    }
   ],
   "source": [
    "## YOUR CODE HERE ##\n",
    "class Classifier(nn.Module):\n",
    "    def __init__(self):\n",
    "        super().__init__()\n",
    "        self.fc1 = nn.Linear(3072, 1024)\n",
    "        self.fc2 = nn.Linear(1024, 256)\n",
    "        self.fc3 = nn.Linear(256, 64)\n",
    "        self.fc4 = nn.Linear(64, 10)\n",
    "        \n",
    "        self.dropout = nn.Dropout(p=0.2)\n",
    "        \n",
    "    def forward(self, x):\n",
    "        x = x.view(x.shape[0], -1)\n",
    "        \n",
    "        x = self.dropout(F.relu(self.fc1(x)))\n",
    "        x = self.dropout(F.relu(self.fc2(x)))\n",
    "        x = self.dropout(F.relu(self.fc3(x)))\n",
    "        \n",
    "        x = F.log_softmax(self.fc4(x), dim=1)\n",
    "        \n",
    "        return x\n",
    "\n",
    "model = Classifier()\n",
    "model"
   ]
  },
  {
   "cell_type": "markdown",
   "metadata": {},
   "source": [
    "Specify a loss function and an optimizer, and instantiate the model.\n",
    "\n",
    "If you use a less common loss function, please note why you chose that loss function in a comment."
   ]
  },
  {
   "cell_type": "code",
   "execution_count": 9,
   "metadata": {},
   "outputs": [],
   "source": [
    "## YOUR CODE HERE ##\n",
    "# loss function Negative Log-Likelihood Loss\n",
    "criterion = nn.NLLLoss()\n",
    "\n",
    "## optimizer Adam. Apparently it is worse than SGD https://opt-ml.org/papers/2021/paper53.pdf\n",
    "#optimizer = optim.Adam(model.parameters(), lr=0.001)\n",
    "\n",
    "##loss function Categorical Cross-Entropy\n",
    "#criterion = nn.CrossEntropyLoss()\n",
    "\n",
    "# optimizer Stochastic Gradient Descent\n",
    "optimizer = optim.SGD(model.parameters(), lr=0.001)"
   ]
  },
  {
   "cell_type": "markdown",
   "metadata": {},
   "source": [
    "## Running your Neural Network\n",
    "Use whatever method you like to train your neural network, and ensure you record the average loss at each epoch. \n",
    "Don't forget to use `torch.device()` and the `.to()` method for both your model and your data if you are using GPU!\n",
    "\n",
    "If you want to print your loss during each epoch, you can use the `enumerate` function and print the loss after a set number of batches. 250 batches works well for most people!"
   ]
  },
  {
   "cell_type": "code",
   "execution_count": 11,
   "metadata": {},
   "outputs": [
    {
     "name": "stdout",
     "output_type": "stream",
     "text": [
      "Test loss: 2.308.. Test accuracy: 0.100\n"
     ]
    }
   ],
   "source": [
    "## I would like to see how well is my model before training. since we have 10 classes, I expect an accuracy of 10% ##\n",
    "device = torch.device(\"cuda\" if torch.cuda.is_available() else \"cpu\")\n",
    "test_loss = 0\n",
    "accuracy = 0\n",
    "model.eval()\n",
    "with torch.no_grad():\n",
    "    for images, labels in testloader:\n",
    "            images, labels = images.to(device), labels.to(device)\n",
    "            logpbs = model(images)\n",
    "            test_loss += criterion(logpbs, labels).item()\n",
    "            pbs = torch.exp(logpbs)\n",
    "            top_p, top_class = pbs.topk(1, dim=1)\n",
    "            equals = top_class == labels.view(*top_class.shape)\n",
    "            accuracy += torch.mean(equals.type(torch.FloatTensor)).item()\n",
    "    \n",
    "print(f\"Test loss: {test_loss/len(testloader):.3f}.. \"\n",
    "      f\"Test accuracy: {accuracy/len(testloader):.3f}\")"
   ]
  },
  {
   "cell_type": "code",
   "execution_count": null,
   "metadata": {},
   "outputs": [
    {
     "name": "stdout",
     "output_type": "stream",
     "text": [
      "Epoch 1/60.. Training Loss: 2.306..\n",
      "Epoch 1/60.. Training Loss: 2.305..\n",
      "Epoch 1/60.. Training Loss: 2.304..\n",
      "Epoch 2/60.. Training Loss: 2.299..\n",
      "Epoch 2/60.. Training Loss: 2.297..\n",
      "Epoch 2/60.. Training Loss: 2.296..\n",
      "Epoch 3/60.. Training Loss: 2.291..\n",
      "Epoch 3/60.. Training Loss: 2.288..\n",
      "Epoch 3/60.. Training Loss: 2.287..\n",
      "Epoch 4/60.. Training Loss: 2.277..\n",
      "Epoch 4/60.. Training Loss: 2.275..\n",
      "Epoch 4/60.. Training Loss: 2.272..\n",
      "Epoch 5/60.. Training Loss: 2.258..\n",
      "Epoch 5/60.. Training Loss: 2.255..\n",
      "Epoch 5/60.. Training Loss: 2.250..\n",
      "Epoch 6/60.. Training Loss: 2.228..\n",
      "Epoch 6/60.. Training Loss: 2.224..\n",
      "Epoch 6/60.. Training Loss: 2.219..\n",
      "Epoch 7/60.. Training Loss: 2.190..\n",
      "Epoch 7/60.. Training Loss: 2.185..\n",
      "Epoch 7/60.. Training Loss: 2.179..\n",
      "Epoch 8/60.. Training Loss: 2.147..\n",
      "Epoch 8/60.. Training Loss: 2.143..\n",
      "Epoch 8/60.. Training Loss: 2.139..\n",
      "Epoch 9/60.. Training Loss: 2.117..\n",
      "Epoch 9/60.. Training Loss: 2.109..\n",
      "Epoch 9/60.. Training Loss: 2.104..\n",
      "Epoch 10/60.. Training Loss: 2.080..\n",
      "Epoch 10/60.. Training Loss: 2.075..\n",
      "Epoch 10/60.. Training Loss: 2.072..\n",
      "Epoch 11/60.. Training Loss: 2.061..\n",
      "Epoch 11/60.. Training Loss: 2.058..\n",
      "Epoch 11/60.. Training Loss: 2.053..\n",
      "Epoch 12/60.. Training Loss: 2.038..\n",
      "Epoch 12/60.. Training Loss: 2.035..\n",
      "Epoch 12/60.. Training Loss: 2.032..\n",
      "Epoch 13/60.. Training Loss: 2.015..\n",
      "Epoch 13/60.. Training Loss: 2.017..\n",
      "Epoch 13/60.. Training Loss: 2.017..\n",
      "Epoch 14/60.. Training Loss: 2.006..\n",
      "Epoch 14/60.. Training Loss: 2.006..\n",
      "Epoch 14/60.. Training Loss: 2.004..\n",
      "Epoch 15/60.. Training Loss: 1.991..\n",
      "Epoch 15/60.. Training Loss: 1.992..\n",
      "Epoch 15/60.. Training Loss: 1.991..\n",
      "Epoch 16/60.. Training Loss: 1.987..\n",
      "Epoch 16/60.. Training Loss: 1.983..\n",
      "Epoch 16/60.. Training Loss: 1.979..\n",
      "Epoch 17/60.. Training Loss: 1.970..\n",
      "Epoch 17/60.. Training Loss: 1.965..\n",
      "Epoch 17/60.. Training Loss: 1.967..\n",
      "Epoch 18/60.. Training Loss: 1.957..\n",
      "Epoch 18/60.. Training Loss: 1.956..\n",
      "Epoch 18/60.. Training Loss: 1.956..\n",
      "Epoch 19/60.. Training Loss: 1.946..\n",
      "Epoch 19/60.. Training Loss: 1.949..\n",
      "Epoch 19/60.. Training Loss: 1.945..\n",
      "Epoch 20/60.. Training Loss: 1.933..\n",
      "Epoch 20/60.. Training Loss: 1.935..\n",
      "Epoch 20/60.. Training Loss: 1.934..\n",
      "Epoch 21/60.. Training Loss: 1.928..\n",
      "Epoch 21/60.. Training Loss: 1.925..\n",
      "Epoch 21/60.. Training Loss: 1.925..\n",
      "Epoch 22/60.. Training Loss: 1.920..\n",
      "Epoch 22/60.. Training Loss: 1.916..\n",
      "Epoch 22/60.. Training Loss: 1.914..\n",
      "Epoch 23/60.. Training Loss: 1.911..\n",
      "Epoch 23/60.. Training Loss: 1.903..\n",
      "Epoch 23/60.. Training Loss: 1.905..\n",
      "Epoch 24/60.. Training Loss: 1.895..\n",
      "Epoch 24/60.. Training Loss: 1.896..\n",
      "Epoch 24/60.. Training Loss: 1.894..\n",
      "Epoch 25/60.. Training Loss: 1.887..\n",
      "Epoch 25/60.. Training Loss: 1.886..\n",
      "Epoch 25/60.. Training Loss: 1.884..\n",
      "Epoch 26/60.. Training Loss: 1.874..\n",
      "Epoch 26/60.. Training Loss: 1.877..\n",
      "Epoch 26/60.. Training Loss: 1.873..\n",
      "Epoch 27/60.. Training Loss: 1.870..\n",
      "Epoch 27/60.. Training Loss: 1.868..\n",
      "Epoch 27/60.. Training Loss: 1.864..\n",
      "Epoch 28/60.. Training Loss: 1.855..\n",
      "Epoch 28/60.. Training Loss: 1.856..\n",
      "Epoch 28/60.. Training Loss: 1.855..\n",
      "Epoch 29/60.. Training Loss: 1.851..\n",
      "Epoch 29/60.. Training Loss: 1.848..\n",
      "Epoch 29/60.. Training Loss: 1.848..\n",
      "Epoch 30/60.. Training Loss: 1.848..\n",
      "Epoch 30/60.. Training Loss: 1.840..\n",
      "Epoch 30/60.. Training Loss: 1.838..\n",
      "Epoch 31/60.. Training Loss: 1.837..\n",
      "Epoch 31/60.. Training Loss: 1.838..\n",
      "Epoch 31/60.. Training Loss: 1.829..\n",
      "Epoch 32/60.. Training Loss: 1.827..\n",
      "Epoch 32/60.. Training Loss: 1.824..\n",
      "Epoch 32/60.. Training Loss: 1.820..\n",
      "Epoch 33/60.. Training Loss: 1.820..\n",
      "Epoch 33/60.. Training Loss: 1.816..\n",
      "Epoch 33/60.. Training Loss: 1.815..\n",
      "Epoch 34/60.. Training Loss: 1.813..\n",
      "Epoch 34/60.. Training Loss: 1.806..\n",
      "Epoch 34/60.. Training Loss: 1.806..\n",
      "Epoch 35/60.. Training Loss: 1.811..\n",
      "Epoch 35/60.. Training Loss: 1.804..\n",
      "Epoch 35/60.. Training Loss: 1.799..\n",
      "Epoch 36/60.. Training Loss: 1.802..\n",
      "Epoch 36/60.. Training Loss: 1.800..\n",
      "Epoch 36/60.. Training Loss: 1.793..\n",
      "Epoch 37/60.. Training Loss: 1.775..\n",
      "Epoch 37/60.. Training Loss: 1.786..\n",
      "Epoch 37/60.. Training Loss: 1.787..\n",
      "Epoch 38/60.. Training Loss: 1.779..\n",
      "Epoch 38/60.. Training Loss: 1.776..\n",
      "Epoch 38/60.. Training Loss: 1.779..\n",
      "Epoch 39/60.. Training Loss: 1.780..\n",
      "Epoch 39/60.. Training Loss: 1.776..\n",
      "Epoch 39/60.. Training Loss: 1.773..\n",
      "Epoch 40/60.. Training Loss: 1.766..\n",
      "Epoch 40/60.. Training Loss: 1.764..\n",
      "Epoch 40/60.. Training Loss: 1.766..\n",
      "Epoch 41/60.. Training Loss: 1.765..\n",
      "Epoch 41/60.. Training Loss: 1.760..\n",
      "Epoch 41/60.. Training Loss: 1.758..\n",
      "Epoch 42/60.. Training Loss: 1.743..\n",
      "Epoch 42/60.. Training Loss: 1.748..\n",
      "Epoch 42/60.. Training Loss: 1.753..\n",
      "Epoch 43/60.. Training Loss: 1.754..\n",
      "Epoch 43/60.. Training Loss: 1.755..\n",
      "Epoch 43/60.. Training Loss: 1.751..\n",
      "Epoch 44/60.. Training Loss: 1.742..\n",
      "Epoch 44/60.. Training Loss: 1.747..\n",
      "Epoch 44/60.. Training Loss: 1.741..\n",
      "Epoch 45/60.. Training Loss: 1.738..\n",
      "Epoch 45/60.. Training Loss: 1.735..\n",
      "Epoch 45/60.. Training Loss: 1.739..\n",
      "Epoch 46/60.. Training Loss: 1.729..\n",
      "Epoch 46/60.. Training Loss: 1.729..\n",
      "Epoch 46/60.. Training Loss: 1.732..\n",
      "Epoch 47/60.. Training Loss: 1.720..\n",
      "Epoch 47/60.. Training Loss: 1.720..\n",
      "Epoch 47/60.. Training Loss: 1.725..\n",
      "Epoch 48/60.. Training Loss: 1.720..\n",
      "Epoch 48/60.. Training Loss: 1.722..\n",
      "Epoch 48/60.. Training Loss: 1.723..\n",
      "Epoch 49/60.. Training Loss: 1.721..\n",
      "Epoch 49/60.. Training Loss: 1.720..\n",
      "Epoch 49/60.. Training Loss: 1.720..\n",
      "Epoch 50/60.. Training Loss: 1.699..\n",
      "Epoch 50/60.. Training Loss: 1.707..\n",
      "Epoch 50/60.. Training Loss: 1.714..\n",
      "Epoch 51/60.. Training Loss: 1.715..\n",
      "Epoch 51/60.. Training Loss: 1.706..\n",
      "Epoch 51/60.. Training Loss: 1.709..\n",
      "Epoch 52/60.. Training Loss: 1.712..\n",
      "Epoch 52/60.. Training Loss: 1.706..\n",
      "Epoch 52/60.. Training Loss: 1.702..\n",
      "Epoch 53/60.. Training Loss: 1.701..\n"
     ]
    }
   ],
   "source": [
    "## YOUR CODE HERE ##\n",
    "device = torch.device(\"cuda:0\" if torch.cuda.is_available() else \"cpu\")\n",
    "model.to(device)\n",
    "\n",
    "epochs = 60 #It might sound a lot, but with trial and error, I started from 5 epochs and realized at this number have better accuracy.\n",
    "step = 0\n",
    "print_every = 250\n",
    "\n",
    "train_losses = []\n",
    "\n",
    "for e in range(epochs):\n",
    "    train_loss = 0\n",
    "    model.train()\n",
    "    for images, labels in trainloader:\n",
    "        images, labels = images.to(device), labels.to(device)\n",
    "        step +=1\n",
    "        logpbs = model(images)\n",
    "        loss = criterion(logpbs, labels)\n",
    "        optimizer.zero_grad()\n",
    "        loss.backward()\n",
    "        optimizer.step()\n",
    "        train_loss += loss.item()\n",
    "        \n",
    "        if step % print_every == 0:\n",
    "            print(\"Epoch {}/{}..\".format(e+1, epochs),\n",
    "                  \"Training Loss: {:.3f}..\".format(train_loss/step))\n",
    "        \n",
    "    train_losses.append(train_loss/len(trainloader))\n",
    "    step = 0"
   ]
  },
  {
   "cell_type": "markdown",
   "metadata": {},
   "source": [
    "Plot the training loss (and validation loss/accuracy, if recorded)."
   ]
  },
  {
   "cell_type": "code",
   "execution_count": null,
   "metadata": {},
   "outputs": [],
   "source": [
    "## YOUR CODE HERE ##\n",
    "%matplotlib inline\n",
    "%config InlineBackend.figure_format = 'retina'\n",
    "\n",
    "plt.plot(train_losses, label='Training loss')\n",
    "plt.legend(frameon=False)"
   ]
  },
  {
   "cell_type": "markdown",
   "metadata": {},
   "source": [
    "## Testing your model\n",
    "Using the previously created `DataLoader` for the test set, compute the percentage of correct predictions using the highest probability prediction. \n",
    "\n",
    "If your accuracy is over 70%, great work! \n",
    "This is a hard task to exceed 70% on.\n",
    "\n",
    "If your accuracy is under 45%, you'll need to make improvements.\n",
    "Go back and check your model architecture, loss function, and optimizer to make sure they're appropriate for an image classification task."
   ]
  },
  {
   "cell_type": "code",
   "execution_count": null,
   "metadata": {},
   "outputs": [],
   "source": [
    "## YOUR CODE HERE ##\n",
    "test_loss = 0\n",
    "accuracy = 0\n",
    "model.eval()\n",
    "with torch.no_grad():\n",
    "    for images, labels in testloader:\n",
    "            images, labels = images.to(device), labels.to(device)\n",
    "            logpbs = model(images)\n",
    "            test_loss += criterion(logpbs, labels).item()\n",
    "            pbs = torch.exp(logpbs)\n",
    "            top_p, top_class = pbs.topk(1, dim=1)\n",
    "            equals = top_class == labels.view(*top_class.shape)\n",
    "            accuracy += torch.mean(equals.type(torch.FloatTensor)).item()\n",
    "    \n",
    "print(f\"Test loss: {test_loss/len(testloader):.3f}.. \"\n",
    "      f\"Test accuracy: {accuracy/len(testloader):.3f}\")"
   ]
  },
  {
   "cell_type": "markdown",
   "metadata": {},
   "source": [
    "So, This fully connected model from scratch did not perform good enough. **Accuracy** of **41%** is not acceptable. I will try to use a model available on `orchvision.models` and apply *transfer learning* to it. But first I will save this model to be able to load it later, if wanted."
   ]
  },
  {
   "cell_type": "code",
   "execution_count": null,
   "metadata": {},
   "outputs": [],
   "source": [
    "model.to('cpu') # just to make sure that model is saved in cpu mode and will be loaded also in cpu mode.\n",
    "torch.save(model.state_dict(), 'checkpoint.pth')"
   ]
  },
  {
   "cell_type": "code",
   "execution_count": null,
   "metadata": {},
   "outputs": [],
   "source": [
    "model2 = torchvision.models.densenet121(pretrained=True)\n",
    "model2"
   ]
  },
  {
   "cell_type": "code",
   "execution_count": 112,
   "metadata": {},
   "outputs": [],
   "source": [
    "for param in model.parameters():\n",
    "    param.requires_grad = False\n",
    "\n",
    "from collections import OrderedDict\n",
    "classifier = nn.Sequential(OrderedDict([\n",
    "                          ('fc1', nn.Linear(1024, 256)),\n",
    "                          ('relu', nn.ReLU()),\n",
    "                          ('fc2', nn.Linear(256, 64)),\n",
    "                          ('relu', nn.ReLU()),\n",
    "                          ('fc3', nn.Linear(64, 10)),\n",
    "                          ('output', nn.LogSoftmax(dim=1))\n",
    "                          ]))\n",
    "    \n",
    "model2.classifier = classifier"
   ]
  },
  {
   "cell_type": "code",
   "execution_count": null,
   "metadata": {},
   "outputs": [],
   "source": [
    "## Also here let us see how this model does without being trained\n",
    "device = torch.device(\"cuda:0\" if torch.cuda.is_available() else \"cpu\")\n",
    "model.to(device)\n",
    "\n",
    "test_loss = 0\n",
    "accuracy = 0\n",
    "model2.eval()\n",
    "with torch.no_grad():\n",
    "    for images, labels in testloader:\n",
    "            images, labels = images.to(device), labels.to(device)\n",
    "            logpbs = model2(images)\n",
    "            test_loss += criterion(logpbs, labels).item()\n",
    "            pbs = torch.exp(logpbs)\n",
    "            top_p, top_class = pbs.topk(1, dim=1)\n",
    "            equals = top_class == labels.view(*top_class.shape)\n",
    "            accuracy += torch.mean(equals.type(torch.FloatTensor)).item()\n",
    "    \n",
    "print(f\"Test loss: {test_loss/len(testloader):.3f}.. \"\n",
    "      f\"Test accuracy: {accuracy/len(testloader):.3f}\")"
   ]
  },
  {
   "cell_type": "code",
   "execution_count": null,
   "metadata": {},
   "outputs": [],
   "source": [
    "criterion = nn.NLLLoss()\n",
    "\n",
    "# Only train the classifier parameters, feature parameters are frozen\n",
    "optimizer = optim.Adam(model2.classifier.parameters(), lr=0.001)\n",
    "\n",
    "epochs = 10\n",
    "step = 0\n",
    "print_every = 250\n",
    "\n",
    "train_losses = []\n",
    "\n",
    "for e in range(epochs):\n",
    "    train_loss = 0\n",
    "    model2.train()\n",
    "    for images, labels in trainloader:\n",
    "        images, labels = images.to(device), labels.to(device)\n",
    "        step +=1\n",
    "        logpbs = model2.forward(images)\n",
    "        loss = criterion(logpbs, labels)\n",
    "        optimizer.zero_grad()\n",
    "        loss.backward()\n",
    "        optimizer.step()\n",
    "        train_loss += loss.item()\n",
    "        \n",
    "        if step % print_every == 0:\n",
    "            print(\"Epoch {}/{}..\".format(e+1, epochs),\n",
    "                  \"Training Loss: {:.3f}..\".format(train_loss/step))\n",
    "        \n",
    "    train_losses.append(train_loss/len(trainloader))\n",
    "    step = 0"
   ]
  },
  {
   "cell_type": "code",
   "execution_count": null,
   "metadata": {},
   "outputs": [],
   "source": [
    "## YOUR CODE HERE ##\n",
    "%matplotlib inline\n",
    "%config InlineBackend.figure_format = 'retina'\n",
    "\n",
    "plt.plot(train_losses, label='Training loss')\n",
    "#plt.plot(test_losses, label='Validation loss')\n",
    "plt.legend(frameon=False)"
   ]
  },
  {
   "cell_type": "code",
   "execution_count": null,
   "metadata": {},
   "outputs": [],
   "source": [
    "## YOUR CODE HERE ##\n",
    "test_loss = 0\n",
    "accuracy = 0\n",
    "model2.eval()\n",
    "with torch.no_grad():\n",
    "    for images, labels in testloader:\n",
    "            images, labels = images.to(device), labels.to(device)\n",
    "            logpbs = model2(images)\n",
    "            test_loss += criterion(logpbs, labels).item()\n",
    "            pbs = torch.exp(logpbs)\n",
    "            top_p, top_class = pbs.topk(1, dim=1)\n",
    "            equals = top_class == labels.view(*top_class.shape)\n",
    "            accuracy += torch.mean(equals.type(torch.FloatTensor)).item()\n",
    "    \n",
    "print(f\"Test loss: {test_loss/len(testloader):.3f}.. \"\n",
    "      f\"Test accuracy: {accuracy/len(testloader):.3f}\")"
   ]
  },
  {
   "cell_type": "markdown",
   "metadata": {},
   "source": [
    "## Saving your model\n",
    "Using `torch.save`, save your model for future loading."
   ]
  },
  {
   "cell_type": "code",
   "execution_count": 91,
   "metadata": {},
   "outputs": [],
   "source": [
    "## YOUR CODE HERE ##\n",
    "# Our original model from scratch was saved earlier.\n",
    "# Also \n",
    "model2.to('cpu')\n",
    "torch.save(model2.state_dict(), 'checkpoint2.pth')"
   ]
  },
  {
   "cell_type": "markdown",
   "metadata": {},
   "source": [
    "## Make a Recommendation\n",
    "\n",
    "Based on your evaluation, what is your recommendation on whether to build or buy? Explain your reasoning below."
   ]
  },
  {
   "cell_type": "markdown",
   "metadata": {},
   "source": [
    "\n",
    "\n",
    "**Double click this cell to modify it**\n",
    "\n"
   ]
  }
 ],
 "metadata": {
  "kernelspec": {
   "display_name": "Python 3",
   "language": "python",
   "name": "python3"
  },
  "language_info": {
   "codemirror_mode": {
    "name": "ipython",
    "version": 3
   },
   "file_extension": ".py",
   "mimetype": "text/x-python",
   "name": "python",
   "nbconvert_exporter": "python",
   "pygments_lexer": "ipython3",
   "version": "3.8.8"
  }
 },
 "nbformat": 4,
 "nbformat_minor": 4
}
